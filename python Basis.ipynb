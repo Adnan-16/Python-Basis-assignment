{
 "cells": [
  {
   "cell_type": "code",
   "execution_count": null,
   "id": "c921932d-7647-4da0-bd9a-c7f6e90bfb6a",
   "metadata": {},
   "outputs": [],
   "source": [
    "1) What is python and why is it popular ?\n",
    " - Python is high level, interpreted programming language. It is popular because it is has enhanced readability , is versatile and has huge ecosystem and libraries.\n",
    "\n",
    "2) What is interpreter in python ?\n",
    "  - Interpreter in python is a computer program that converts each high level program statements into machine code. \n",
    "\n",
    "3) What are pre-defined keywords in python ?\n",
    "    - These are words that hold a special meaning and have specific purpose.\n",
    "    Here is the list of some python keywords - false, true, none, continue, def, if ,break,elif, else,return,or,del.\n",
    "\n",
    "4) Can keywords be used as variable names ?\n",
    "    - No, keyword cannot be used as variable names because keywords have special meaning , using them as variable names would confuse the interpreter \n",
    "     and cause an error.\n",
    "\n",
    "5) What is mutability in python ?\n",
    "   -  Mutability in Python means objects such as lists and dictionaries can be modified after creation.\n",
    "\n",
    "6) Why are lists are mutable but tuples are immutable ?\n",
    "    - Lists are mutable because they are designed to hold collections of items that may change over time whereas tuples are immutable as they are     designed for fixed data.\n",
    "\n",
    "7) What is the difference between \"==\" and \"is\" operators in python ?\n",
    "  - Here \"==\" is an example of comparision operator whereas \"is\" example of identity operator.\n",
    "\n",
    "8) What are logical operators in python ?\n",
    "- Logical operators in python are and, or and not.\n",
    "\n",
    "9) What is typecasting in python ?\n",
    "   - Typecasting in python is to change the the format. Simply converting a variable from one data type to another.\n",
    "\n",
    "10) What is the difference between implicit and explicit type casting ?\n",
    "   - In implicit typecasting python understand the datatype whereas in explicit typecasting , it converts datatype using inbuilt functions.\n",
    "\n",
    "11) What is the purpose of conditional statement in python ?\n",
    "   - Purpose of conditional statement in python to allows a python program to make decisions and esecute different code blocks based on conditions. The main conditional statements are if , else and elif.\n",
    "\n",
    "12) How does elif statement work ?\n",
    "   - Firstly , python checks if condition first. Then if is true , it runs that block and skips all others. If if is false , it checks the elif condition and if elif is true , it runs that block.\n",
    "\n",
    "13) What is the difference between for and while loop ?\n",
    "  - For loop iterate over a sequence of elements whereas while loop repeatedly executed a block of code until a condition is met.\n",
    "\n",
    "14) Describe a scenario where a while loop is more suitable than a for loop ?\n",
    "   - While loop is more suitable than for loop in sensor monitoring as it continously read from a sensor until it gives a valid reading.\n",
    "\n",
    "\n",
    "\n"
   ]
  },
  {
   "cell_type": "code",
   "execution_count": 1,
   "id": "7dc60156-c4e3-477b-99db-1827c70f69d1",
   "metadata": {},
   "outputs": [
    {
     "name": "stdout",
     "output_type": "stream",
     "text": [
      "Hello, World!\n"
     ]
    }
   ],
   "source": [
    "#1 Write a python program to print, Hello, World!\"\n",
    "\n",
    "print(\"Hello, World!\")"
   ]
  },
  {
   "cell_type": "code",
   "execution_count": 2,
   "id": "bb89972b-be2f-45f3-bb52-aa199bd633e4",
   "metadata": {},
   "outputs": [
    {
     "name": "stdin",
     "output_type": "stream",
     "text": [
      "enter name Adnan Sahil\n",
      "enter age 27\n"
     ]
    },
    {
     "name": "stdout",
     "output_type": "stream",
     "text": [
      "My name is Adnan Sahil\n",
      "I am 27 years old\n"
     ]
    }
   ],
   "source": [
    "#2 Write a python program that displays your name and age\n",
    "\n",
    "name = input(\"enter name\")\n",
    "age = input(\"enter age\")\n",
    "print(f\"My name is {name}\")\n",
    "print(f\"I am {age} years old\")"
   ]
  },
  {
   "cell_type": "code",
   "execution_count": 3,
   "id": "60d493e5-3299-446a-8062-fc3e0320c580",
   "metadata": {},
   "outputs": [
    {
     "name": "stdout",
     "output_type": "stream",
     "text": [
      " The list of keywords is :\n",
      "['False', 'None', 'True', 'and', 'as', 'assert', 'async', 'await', 'break', 'class', 'continue', 'def', 'del', 'elif', 'else', 'except', 'finally', 'for', 'from', 'global', 'if', 'import', 'in', 'is', 'lambda', 'nonlocal', 'not', 'or', 'pass', 'raise', 'return', 'try', 'while', 'with', 'yield']\n"
     ]
    }
   ],
   "source": [
    "#3 Write code to print all predefined keywords in python using the keyword library\n",
    "\n",
    "import keyword\n",
    "\n",
    "print(\" The list of keywords is :\")\n",
    "print(keyword.kwlist)\n",
    "\n"
   ]
  },
  {
   "cell_type": "code",
   "execution_count": 4,
   "id": "0b4c3d60-89d4-467f-b10a-ee3a63743682",
   "metadata": {},
   "outputs": [
    {
     "name": "stdin",
     "output_type": "stream",
     "text": [
      "enter a word raise\n"
     ]
    },
    {
     "name": "stdout",
     "output_type": "stream",
     "text": [
      "raise' is a python keyword.\n"
     ]
    }
   ],
   "source": [
    "#4 Write a program to checks if a given word is python keyword\n",
    "\n",
    "import keyword\n",
    "word = input(\"enter a word\")\n",
    "\n",
    "if keyword.iskeyword(word):\n",
    "    print(f\"{word}' is a python keyword.\")\n",
    "else:\n",
    "    print(f\"{word}' is not a python keyword.\")"
   ]
  },
  {
   "cell_type": "code",
   "execution_count": 1,
   "id": "50584a55-c854-4cec-83fd-9dcfcd80443b",
   "metadata": {},
   "outputs": [
    {
     "name": "stdout",
     "output_type": "stream",
     "text": [
      "[5, '2', '3', '4']\n"
     ]
    },
    {
     "ename": "TypeError",
     "evalue": "'tuple' object does not support item assignment",
     "output_type": "error",
     "traceback": [
      "\u001b[31m---------------------------------------------------------------------------\u001b[39m",
      "\u001b[31mTypeError\u001b[39m                                 Traceback (most recent call last)",
      "\u001b[36mCell\u001b[39m\u001b[36m \u001b[39m\u001b[32mIn[1]\u001b[39m\u001b[32m, line 8\u001b[39m\n\u001b[32m      5\u001b[39m \u001b[38;5;28mprint\u001b[39m(my_list)\n\u001b[32m      7\u001b[39m my_tuple = (\u001b[33m\"\u001b[39m\u001b[33m1\u001b[39m\u001b[33m\"\u001b[39m,\u001b[33m\"\u001b[39m\u001b[33m2\u001b[39m\u001b[33m\"\u001b[39m,\u001b[33m\"\u001b[39m\u001b[33m3\u001b[39m\u001b[33m\"\u001b[39m,\u001b[33m\"\u001b[39m\u001b[33m4\u001b[39m\u001b[33m\"\u001b[39m)\n\u001b[32m----> \u001b[39m\u001b[32m8\u001b[39m \u001b[43mmy_tuple\u001b[49m\u001b[43m[\u001b[49m\u001b[32;43m0\u001b[39;49m\u001b[43m]\u001b[49m= \u001b[32m9\u001b[39m\n\u001b[32m      9\u001b[39m \u001b[38;5;28mprint\u001b[39m(my_tuple)\n",
      "\u001b[31mTypeError\u001b[39m: 'tuple' object does not support item assignment"
     ]
    }
   ],
   "source": [
    "#5 Create a list and tuple in python and demostrate how attempting to change an element works differently for each\n",
    "\n",
    "my_list = ['1','2','3','4']\n",
    "my_list[0] = 5\n",
    "print(my_list)\n",
    "\n",
    "my_tuple = (\"1\",\"2\",\"3\",\"4\")\n",
    "my_tuple[0]= 9\n",
    "print(my_tuple)\n",
    "        \n",
    "\n"
   ]
  },
  {
   "cell_type": "code",
   "execution_count": 41,
   "id": "d3ac8090-a90a-4b03-86c6-0bd7e1f9b0d6",
   "metadata": {},
   "outputs": [
    {
     "name": "stdout",
     "output_type": "stream",
     "text": [
      "[9, 'Bijay', '40.67']\n"
     ]
    },
    {
     "ename": "TypeError",
     "evalue": "'str' object does not support item assignment",
     "output_type": "error",
     "traceback": [
      "\u001b[31m---------------------------------------------------------------------------\u001b[39m",
      "\u001b[31mTypeError\u001b[39m                                 Traceback (most recent call last)",
      "\u001b[36mCell\u001b[39m\u001b[36m \u001b[39m\u001b[32mIn[41]\u001b[39m\u001b[32m, line 7\u001b[39m\n\u001b[32m      5\u001b[39m \u001b[38;5;28mprint\u001b[39m(\u001b[38;5;28mlist\u001b[39m)\n\u001b[32m      6\u001b[39m a = \u001b[33m\"\u001b[39m\u001b[33m Kite\u001b[39m\u001b[33m\"\u001b[39m\n\u001b[32m----> \u001b[39m\u001b[32m7\u001b[39m \u001b[43ma\u001b[49m\u001b[43m[\u001b[49m\u001b[32;43m1\u001b[39;49m\u001b[43m]\u001b[49m =\u001b[33m\"\u001b[39m\u001b[33mu\u001b[39m\u001b[33m\"\u001b[39m\n",
      "\u001b[31mTypeError\u001b[39m: 'str' object does not support item assignment"
     ]
    }
   ],
   "source": [
    "#6 Write a fuction to demostrate behavior of mutable and immutable arguments\n",
    "\n",
    "list =[\"1\", \"Bijay\", \"40.67\"]\n",
    "list[0] = 9\n",
    "print(list)\n",
    "a = \" Kite\"\n",
    "a[1] =\"u\"\n",
    "\n",
    "\n",
    "\n",
    "\n"
   ]
  },
  {
   "cell_type": "code",
   "execution_count": 10,
   "id": "d3778512-89ea-4eda-8b36-2d5cf8fa61ca",
   "metadata": {},
   "outputs": [
    {
     "name": "stdin",
     "output_type": "stream",
     "text": [
      "enter num1: 10\n",
      "enter num2: 2\n"
     ]
    },
    {
     "name": "stdout",
     "output_type": "stream",
     "text": [
      "add: 12.0\n",
      "division: 5.0\n",
      "subtraction: 8.0\n",
      "multipy: 20.0\n"
     ]
    }
   ],
   "source": [
    "#7 Write a program that performs basic arithmatic operations on two user input numbers\n",
    "\n",
    "num1= float(input(\"enter num1:\"))\n",
    "num2= float(input(\"enter num2:\"))\n",
    "print(\"add:\",num1+num2)\n",
    "print(\"division:\", num1/num2)\n",
    "print(\"subtraction:\", num1-num2)\n",
    "print(\"multipy:\", num1*num2)\n"
   ]
  },
  {
   "cell_type": "code",
   "execution_count": 44,
   "id": "9f5b4e88-e2d9-442d-b47c-f4ce5b7e19b8",
   "metadata": {},
   "outputs": [
    {
     "name": "stdout",
     "output_type": "stream",
     "text": [
      "eligible for loan\n"
     ]
    }
   ],
   "source": [
    "#8 Write a program to demonstrate use of logical operators\n",
    "\n",
    "age=15\n",
    "income = 20000\n",
    "if age>=18 or income>=10000:\n",
    "    print(\"eligible for loan\")\n",
    "else:\n",
    "    print(\"not eligible for loan\")\n"
   ]
  },
  {
   "cell_type": "code",
   "execution_count": 3,
   "id": "6413b585-46f4-4668-a1b9-87724c48b1d8",
   "metadata": {},
   "outputs": [
    {
     "name": "stdin",
     "output_type": "stream",
     "text": [
      " enter a value 24\n"
     ]
    },
    {
     "name": "stdout",
     "output_type": "stream",
     "text": [
      "24.0\n",
      "24\n"
     ]
    },
    {
     "data": {
      "text/plain": [
       "True"
      ]
     },
     "execution_count": 3,
     "metadata": {},
     "output_type": "execute_result"
    }
   ],
   "source": [
    "#9 Write a python program to convert user input from string to integer , float and boolean types\n",
    "\n",
    "a =input(\" enter a value\")\n",
    "f= float(a)\n",
    "print(f)\n",
    "i=int(a)\n",
    "print(i)\n",
    "bool(a)\n",
    "\n"
   ]
  },
  {
   "cell_type": "code",
   "execution_count": 6,
   "id": "6a0b4b00-0150-467c-a5a0-728eda62fc8e",
   "metadata": {},
   "outputs": [
    {
     "data": {
      "text/plain": [
       "('apple', 'guava', ' mango', 'banana')"
      ]
     },
     "execution_count": 6,
     "metadata": {},
     "output_type": "execute_result"
    }
   ],
   "source": [
    "#10 Write code to demonstrate typecasting with list elements\n",
    "\n",
    "Fruits =[\"apple\", \"guava\", \" mango\", \"banana\"]\n",
    "tuple(Fruits)\n"
   ]
  },
  {
   "cell_type": "code",
   "execution_count": 3,
   "id": "dd9ee232-f097-40b8-b0c2-7bb7c174e6c2",
   "metadata": {},
   "outputs": [
    {
     "name": "stdin",
     "output_type": "stream",
     "text": [
      "enter a num: -8\n"
     ]
    },
    {
     "name": "stdout",
     "output_type": "stream",
     "text": [
      " num is negative\n"
     ]
    }
   ],
   "source": [
    "#11 Write a program that checks if a number is postive , negative or zero\n",
    "\n",
    "num = float(input(\"enter a num:\"))\n",
    "if num > 0:\n",
    "    print(\" num is positive\")\n",
    "elif num<0:\n",
    "    print(\" num is negative\")\n",
    "else:\n",
    "    print(\" num is zero\")\n",
    "            "
   ]
  },
  {
   "cell_type": "code",
   "execution_count": 10,
   "id": "c5669405-0822-42d9-b33b-4027cf44853f",
   "metadata": {},
   "outputs": [
    {
     "name": "stdout",
     "output_type": "stream",
     "text": [
      "1\n",
      "2\n",
      "3\n",
      "4\n",
      "5\n",
      "6\n",
      "7\n",
      "8\n",
      "9\n",
      "10\n"
     ]
    }
   ],
   "source": [
    "#12 Write a for loop to print numbers from 1 to 10\n",
    "\n",
    "for i in range(1,11):\n",
    "    print(i)\n"
   ]
  },
  {
   "cell_type": "code",
   "execution_count": 18,
   "id": "84daed5d-adc5-44b9-9535-57b1873e0ec8",
   "metadata": {},
   "outputs": [
    {
     "name": "stdout",
     "output_type": "stream",
     "text": [
      "sum of even numbers from 1 to 50 is 650\n"
     ]
    }
   ],
   "source": [
    "#13 Write a python program to find the sum of all even numbers between 1 and 50\n",
    "\n",
    "i=1\n",
    "sum = 0\n",
    "while(i<=50):\n",
    "    if(i %2==0):\n",
    "        sum = sum+i\n",
    "    i=i+1\n",
    "print(\"sum of even numbers from 1 to 50 is\",sum)"
   ]
  },
  {
   "cell_type": "code",
   "execution_count": 22,
   "id": "53bfdbdc-7512-443e-a1bb-dada0fd6d3a7",
   "metadata": {},
   "outputs": [
    {
     "name": "stdin",
     "output_type": "stream",
     "text": [
      " enter a str chemistry\n"
     ]
    },
    {
     "name": "stdout",
     "output_type": "stream",
     "text": [
      "yrtsimehc"
     ]
    }
   ],
   "source": [
    "#14 Write a program to reverse a string using a while loop\n",
    "\n",
    "str = input(\" enter a str\")\n",
    "i=len(str)-1\n",
    "while i >=0:\n",
    "    print(str[i], end ='')\n",
    "    i=i-1\n",
    "\n",
    "\n",
    "\n",
    "\n",
    "\n"
   ]
  },
  {
   "cell_type": "code",
   "execution_count": 12,
   "id": "b5420432-34b2-4511-8f61-50714493182a",
   "metadata": {},
   "outputs": [
    {
     "name": "stdin",
     "output_type": "stream",
     "text": [
      " enter a num 6\n"
     ]
    },
    {
     "name": "stdout",
     "output_type": "stream",
     "text": [
      "720\n"
     ]
    }
   ],
   "source": [
    "#15 Write a python program to calculate factorial of a number provided by user using a while loop\n",
    "\n",
    "num = int(input(\" enter a num\"))\n",
    "fact = 1\n",
    "while(num>0):\n",
    "    fact = fact*num\n",
    "    num = num-1\n",
    "print(fact)"
   ]
  }
 ],
 "metadata": {
  "kernelspec": {
   "display_name": "Python 3 (ipykernel)",
   "language": "python",
   "name": "python3"
  },
  "language_info": {
   "codemirror_mode": {
    "name": "ipython",
    "version": 3
   },
   "file_extension": ".py",
   "mimetype": "text/x-python",
   "name": "python",
   "nbconvert_exporter": "python",
   "pygments_lexer": "ipython3",
   "version": "3.13.3"
  }
 },
 "nbformat": 4,
 "nbformat_minor": 5
}
